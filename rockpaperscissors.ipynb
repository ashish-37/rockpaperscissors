{
 "cells": [
  {
   "cell_type": "code",
   "execution_count": 13,
   "metadata": {},
   "outputs": [
    {
     "name": "stdout",
     "output_type": "stream",
     "text": [
      "PLAYER 1 PLEASE ENTER YOUR CHOICE \n",
      "233\n",
      "PLAYER 2 PLEASE ENTER YOUR CHOICE \n",
      "33\n",
      "PLAYER 1 PLEASE ENTER YOUR SECRET BIT POSITION \n",
      "2\n",
      "PLAYER 2 PLEASE ENTER YOUR SECRET BIT POSITION \n",
      "0\n",
      "PLAYER 2 WINS\n",
      "DO YOU WISH TO CONTINUE ? y/nn\n"
     ]
    }
   ],
   "source": [
    "def rock_paper_scissors(num1,num2,bit1,bit2):\n",
    "    p1=int(num1[bit1])%3\n",
    "    p2=int(num2[bit2])%3\n",
    "    if player1[p1]==player2[p2]:\n",
    "        print(\"DRAW\")\n",
    "    elif(player1[p1]==\"ROCK\" and player2[p2]==\"PAPER\"):\n",
    "        print(\"PLAYER 2 WINS\")\n",
    "    elif(player1[p1]==\"PAPER\" and player2[p2]==\"SCISSORS\"):\n",
    "        print(\"PLAYER 2 WINS\")\n",
    "    elif(player1[p1]==\"SCISSORS\" and player2[p2]==\"ROCK\"):\n",
    "        print(\"PLAYER 2 WINS\")\n",
    "    elif(player1[p1]==\"ROCK\" and player2[p2]==\"SCISSORS\"):\n",
    "        print(\"PLAYER 1 WINS\")\n",
    "    elif(player1[p1]==\"SCISSORS\" and player2[p2]==\"PAPER\"):\n",
    "        print(\"PLAYER 1 WINS\")\n",
    "    elif(player1[p1]==\"PAPER\" and player2[p2]==\"ROCK\"):\n",
    "        print(\"PLAYER 1 WINS\")\n",
    "\n",
    "player1={0:\"ROCK\",1:\"PAPER\",2:\"SCISSORS\"}\n",
    "player2={0:\"PAPER\",1:\"SCISSORS\",2:\"ROCK\"}\n",
    "while True:\n",
    "    num1=input(\"PLAYER 1 PLEASE ENTER YOUR CHOICE \\n\")\n",
    "    num2=input(\"PLAYER 2 PLEASE ENTER YOUR CHOICE \\n\")\n",
    "    bit1=int(input(\"PLAYER 1 PLEASE ENTER YOUR SECRET BIT POSITION \\n\"))\n",
    "    bit2=int(input(\"PLAYER 2 PLEASE ENTER YOUR SECRET BIT POSITION \\n\"))\n",
    "    rock_paper_scissors(num1,num2,bit1,bit2)\n",
    "    ch=input(\"DO YOU WISH TO CONTINUE ? y/n\")\n",
    "    if ch=='n':\n",
    "        break"
   ]
  },
  {
   "cell_type": "code",
   "execution_count": null,
   "metadata": {},
   "outputs": [],
   "source": []
  }
 ],
 "metadata": {
  "kernelspec": {
   "display_name": "Python 3",
   "language": "python",
   "name": "python3"
  },
  "language_info": {
   "codemirror_mode": {
    "name": "ipython",
    "version": 3
   },
   "file_extension": ".py",
   "mimetype": "text/x-python",
   "name": "python",
   "nbconvert_exporter": "python",
   "pygments_lexer": "ipython3",
   "version": "3.6.4"
  }
 },
 "nbformat": 4,
 "nbformat_minor": 2
}
